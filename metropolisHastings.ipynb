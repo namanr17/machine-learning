{
 "cells": [
  {
   "cell_type": "code",
   "execution_count": 1,
   "metadata": {},
   "outputs": [],
   "source": [
    "import numpy as np\n",
    "import matplotlib.pyplot as plt"
   ]
  },
  {
   "cell_type": "markdown",
   "metadata": {},
   "source": [
    "## Normal Distribution"
   ]
  },
  {
   "cell_type": "code",
   "execution_count": 2,
   "metadata": {},
   "outputs": [],
   "source": [
    "def norm_pdf(x, mu=0, sigma=1):\n",
    "    '''\n",
    "    Probability density function for a normal continuous random variable.\n",
    "\n",
    "    Parameters\n",
    "    ----------\n",
    "    x : array-like\n",
    "        Real number(s)\n",
    "\n",
    "    mu : float, default=0\n",
    "        Mean\n",
    "    \n",
    "    sigma : float, default=1\n",
    "        Standard Deviation\n",
    "\n",
    "    Returns\n",
    "    -------\n",
    "    density : array-like\n",
    "        Probability density for every value of x\n",
    "    '''\n",
    "    return 1/(sigma * np.sqrt(2 * np.pi)) * np.exp( - (x - mu)**2 / (2 * sigma**2) )"
   ]
  },
  {
   "cell_type": "markdown",
   "metadata": {},
   "source": [
    "## Data Generation\n",
    "\n",
    "Generate 50 samples from a normal distribution with mean μ=10, and standard deviation σ=5."
   ]
  },
  {
   "cell_type": "code",
   "execution_count": 3,
   "metadata": {},
   "outputs": [
    {
     "data": {
      "image/png": "[encoded data removed]",
      "text/plain": [
       "<Figure size 648x432 with 1 Axes>"
      ]
     },
     "metadata": {
      "needs_background": "light"
     },
     "output_type": "display_data"
    }
   ],
   "source": [
    "np.random.seed(0)\n",
    "\n",
    "# Number of samples to draw\n",
    "n = 50\n",
    "\n",
    "# Sample data points from a normal distribution with mean 10 and standard deviation 5\n",
    "mu, sigma = 10, 5\n",
    "samples = np.random.normal(loc=mu, scale=sigma, size=n)\n",
    "\n",
    "# Calculate population mean\n",
    "x_bar = samples.mean()\n",
    "\n",
    "# Histogram of sampled data points (value vs frequency)\n",
    "plt.figure(figsize=(9,6))\n",
    "plt.hist(samples, bins=10)\n",
    "plt.xlabel(\"Value\")\n",
    "plt.ylabel(\"Frequency\")\n",
    "plt.title(\"Figure: Distribution of 50 observations sampled from a population with mu=10, sigma=5\")\n",
    "plt.show()"
   ]
  },
  {
   "cell_type": "markdown",
   "metadata": {},
   "source": [
    "## Prior\n",
    "\n",
    "Prior is a normal distribution with mean μ=25, and standard deviation σ=5."
   ]
  },
  {
   "cell_type": "code",
   "execution_count": 4,
   "metadata": {},
   "outputs": [],
   "source": [
    "# Normal prior with mean 25 and standard deviation 5\n",
    "mu_prior, sigma_prior = 25, 5"
   ]
  },
  {
   "cell_type": "markdown",
   "metadata": {},
   "source": [
    "## Likelihood"
   ]
  },
  {
   "cell_type": "markdown",
   "metadata": {},
   "source": [
    "For $n$ i.i.d. samples $x_1, x_2, ..., x_n$, we can calculate the likelihood as follows;\n",
    "\n",
    "$$\n",
    "\\begin{align*}\n",
    "P(x_1, x_2, ..., x_n|\\mu, \\sigma^2) &= P(x_1|\\mu, \\sigma^2) P(x_2|\\mu, \\sigma^2) ... P(x_n|\\mu, \\sigma^2) \\\\\n",
    "&= \\prod_{i=1}^{n} P(x_i|\\mu, \\sigma^2) \\\\\n",
    "&= \\prod_{i=1}^{n} \\frac {1} {\\sqrt{2 \\pi \\sigma^2}} exp \\left( {\\frac{-(x_i-\\mu)^2}{2 \\sigma^2}} \\right) \\\\\n",
    "&= \\left( \\frac {1} {\\sqrt{2 \\pi \\sigma^2}} \\right)^n exp \\left( {\\frac{-\\sum_{i=1}^n (x_i-\\mu)^2}{2 \\sigma^2}} \\right) \\\\\n",
    "&\\propto exp \\left( {\\frac{-\\sum_{i=1}^n (x_i-\\mu)^2}{2 \\sigma^2}} \\right) \\\\\n",
    "&\\propto exp \\left( {\\frac {- \\left(\\sum_{i=1}^n x_i^2 + n \\mu^2 - 2 \\mu \\sum_{i=1}^n x_i \\right)} {2 \\sigma^2}} \\right) \\\\\n",
    "&\\propto exp \\left( {\\frac {-n} {2 \\sigma^2} \\left( \\mu^2 - 2\\mu \\frac{\\sum_{i=1}^n x_i}{n} + \\frac{\\sum_{i=1}^n x_i^2} {n}  \\right)} \\right) \\\\\n",
    "&\\propto exp \\left( {\\frac {-1} {2 \\left( \\sigma^2 / n \\right)} \\left( \\mu^2 - 2\\mu \\bar{x} + \\frac{\\sum_{i=1}^n x_i^2} {n}  \\right)} \\right) \\\\\n",
    "&\\propto exp \\left( {\\frac {-1} {2 \\left( \\sigma^2 / n \\right)} \\left( \\mu^2 - 2\\mu \\bar{x} + \\bar{x}^2 - \\bar{x}^2 + \\frac{\\sum_{i=1}^n x_i^2} {n}  \\right)} \\right) \\\\\n",
    "&\\propto exp \\left( {\\frac {-1} {2 \\left( \\sigma^2 / n \\right)} \\left( \\mu^2 - 2\\mu \\bar{x} + \\bar{x}^2 \\right)} \\right) exp \\left( {\\frac {-1} {2 \\left( \\sigma^2 / n \\right)} \\left( \\frac{\\sum_{i=1}^n x_i^2} {n} - \\bar{x}^2 \\right)} \\right) \\\\\n",
    "&\\propto exp \\left( {\\frac {-1} {2 \\left( \\sigma^2 / n \\right)} \\left( \\mu^2 - 2\\mu \\bar{x} + \\bar{x}^2 \\right)} \\right) \\\\\n",
    "&\\propto exp \\left( {\\frac {-1} {2 \\left( \\sigma^2 / n \\right)} \\left( \\mu - \\bar{x} \\right)^2} \\right)\n",
    "\\end{align*}\n",
    "$$\n",
    "\n",
    "Therefore, the probability density function for the likelihood is $\\mathcal{N}(\\bar {x}, \\frac{\\sigma^2}{n})$ i.e. $\\mu_L = \\bar {x}$ and $\\sigma_L = \\sigma / \\sqrt{n}$"
   ]
  },
  {
   "cell_type": "code",
   "execution_count": 5,
   "metadata": {},
   "outputs": [
    {
     "name": "stdout",
     "output_type": "stream",
     "text": [
      "Mean of the distribution of Likelihood = 10.702796361565493\n",
      "Standard Deviation of the distribution of Likelihood = 0.7071067811865475\n"
     ]
    }
   ],
   "source": [
    "# Calculate the parameters of Likelihood\n",
    "mu_likelihood = x_bar\n",
    "sigma_likelihood = sigma / np.sqrt(n)\n",
    "\n",
    "print(f\"Mean of the distribution of Likelihood = {mu_likelihood}\")\n",
    "print(f\"Standard Deviation of the distribution of Likelihood = {sigma_likelihood}\")"
   ]
  },
  {
   "cell_type": "markdown",
   "metadata": {},
   "source": [
    "## Posterior\n",
    "\n",
    "Since, it is given that prior is a normal distribution, let's take prior as $\\mathcal{N}(\\mu_{prior}, \\sigma_{prior}^2)$\n",
    "\n",
    "<br>\n",
    "\n",
    "$$\n",
    "\\begin{align*}\n",
    "Posterior &= Prior * Likelihood \\\\\n",
    "\n",
    "&\\propto exp \\left[\\frac{-(\\mu - \\mu_{prior})^2}{2\\sigma_{prior}^2} \\right] * exp \\left[\\frac{-n(\\mu - \\bar{x})^2}{2\\sigma^2}\\right] \\\\\n",
    "\n",
    "&\\propto exp \\left[\\frac{-(\\mu^2 -2\\mu\\mu_{prior} + \\mu_{prior}^2)}{2\\sigma_{prior}^2} \\right] * exp \\left[\\frac{-n(\\mu^2 -2\\mu\\bar{x} + \\bar{x}^2)}{2\\sigma^2}\\right] \\\\\n",
    "\n",
    "&\\propto exp \\left[\\frac{-(\\mu^2 -2\\mu\\mu_{prior} + \\mu_{prior}^2)}{2\\sigma_{prior}^2} \\right] * exp \\left[\\frac{-n(\\mu^2 -2\\mu\\bar{x} + \\bar{x}^2)}{2\\sigma^2}\\right] \\\\\n",
    "\n",
    "&\\propto exp \\left[\\frac{-(\\mu^2 -2\\mu\\mu_{prior} + \\mu_{prior}^2)}{2\\sigma_{prior}^2} + \\frac{-n(\\mu^2 -2\\mu\\bar{x} + \\bar{x}^2)}{2\\sigma^2 }\\right] \\\\\n",
    "\n",
    "&\\propto exp \\left[\\frac{-1} {2(\\sigma^2 \\sigma_{prior}^2)} \\Bigl( (\\mu^2 -2\\mu\\mu_{prior} + \\mu_{prior}^2 ) \\sigma^2 + n(\\mu^2 -2\\mu\\bar{x} + \\bar{x}^2) \\sigma_{prior}^2 \\Bigr) \\right] \\\\\n",
    "\n",
    "&\\propto exp \\left[\\frac{-1} {2 \\left(\\frac{\\sigma^2 \\sigma_{prior}^2} {\\sigma^2 + n\\sigma_{prior}^2} \\right)} \\left(\\mu^2 -2\\mu(\\frac{\\sigma^2\\mu_{prior} + n\\sigma_{prior}^2\\bar{x}}{\\sigma^2 + n\\sigma_{prior}^2}) + (\\frac{\\sigma^2\\mu_{prior}^2 + n\\sigma_{prior}^2\\bar{x}^2}{\\sigma^2 + n\\sigma_{prior}^2}) \\right) \\right] \\\\\n",
    "\n",
    "&\\small{} \\text{ (Completing the squares and ignoring the constant terms) } \\\\\n",
    "\n",
    "&\\propto exp \\left[\\frac{-1} {2 \\left(\\frac{\\sigma^2 \\sigma_{prior}^2} {\\sigma^2 + n\\sigma_{prior}^2} \\right)} \\left(\\mu^2 - 2\\mu(\\frac{\\sigma^2\\mu_{prior} + n\\sigma_{prior}^2\\bar{x}}{\\sigma^2 + n\\sigma_{prior}^2}) + (\\frac{\\sigma^2\\mu_{prior} + n\\sigma_{prior}^2\\bar{x}}{\\sigma^2 + n\\sigma_{prior}^2})^2 \\right) \\right] \\\\\n",
    "\n",
    "&\\propto exp \\left[\\frac{-1} {2 \\left(\\frac{\\sigma^2 \\sigma_{prior}^2} {\\sigma^2 + n\\sigma_{prior}^2} \\right)} \\left(\\mu - (\\frac{\\sigma^2\\mu_{prior} + n\\sigma_{prior}^2\\bar{x}}{\\sigma^2 + n\\sigma_{prior}^2}) \\right)^2 \\right]\n",
    "\n",
    "\\end{align*}\n",
    "$$\n",
    "\n",
    "Therefore, the probability density function for the posterior is $\\mathcal{N}\\left(\\frac{\\sigma^2\\mu_{prior} + n\\sigma_{prior}^2\\bar{x}}{\\sigma^2 + n\\sigma_{prior}^2}, \\frac{\\sigma^2 \\sigma_{prior}^2} {\\sigma^2 + n\\sigma_{prior}^2}\\right)$"
   ]
  },
  {
   "cell_type": "code",
   "execution_count": 9,
   "metadata": {},
   "outputs": [
    {
     "name": "stdout",
     "output_type": "stream",
     "text": [
      "Mean of the distribution of Posterior = 10.983133687809307\n",
      "Standard Deviation of the distribution of Posterior = 0.7001400420140049\n"
     ]
    }
   ],
   "source": [
    "# Calculate the parameters of Posterior\n",
    "sigma_sq = np.square(sigma)\n",
    "sigma_prior_sq = np.square(sigma_prior)\n",
    "\n",
    "mu_posterior = (sigma_sq * mu_prior + n * sigma_prior_sq * x_bar) / (sigma_sq + n * sigma_prior_sq)\n",
    "sigma_posterior = np.sqrt((sigma_sq * sigma_prior_sq ) / (sigma_sq + n * sigma_prior_sq))\n",
    "\n",
    "print(f\"Mean of the distribution of Posterior = {mu_posterior}\")\n",
    "print(f\"Standard Deviation of the distribution of Posterior = {sigma_posterior}\")"
   ]
  },
  {
   "cell_type": "markdown",
   "metadata": {},
   "source": [
    "## PDFs of Prior, Likelihood & Posterior"
   ]
  },
  {
   "cell_type": "code",
   "execution_count": 19,
   "metadata": {},
   "outputs": [
    {
     "data": {
      "image/png": "[encoded data removed]",
      "text/plain": [
       "<Figure size 648x432 with 1 Axes>"
      ]
     },
     "metadata": {
      "needs_background": "light"
     },
     "output_type": "display_data"
    }
   ],
   "source": [
    "plt.figure(figsize=(9,6))\n",
    "\n",
    "# Plot the pdf of Prior distribution\n",
    "prior_x = np.linspace(mu_prior - 3 * sigma_prior, mu_prior + 3 * sigma_prior, 100)\n",
    "plt.plot(prior_x, norm_pdf(prior_x, mu_prior, sigma_prior), label='Prior')\n",
    "\n",
    "# Plot the pdf of Likelihood distribution\n",
    "likelihood_x = np.linspace(mu_likelihood - 3 * sigma_likelihood, mu_likelihood + 3 * sigma_likelihood, 100)\n",
    "plt.plot(likelihood_x, norm_pdf(likelihood_x, mu_likelihood, sigma_likelihood), label='Likelihood')\n",
    "\n",
    "# Plot the pdf of Posterior distribution\n",
    "posterior_x = np.linspace(mu_posterior - 3 * sigma_posterior, mu_posterior + 3 * sigma_posterior, 100)\n",
    "plt.plot(posterior_x, norm_pdf(posterior_x, mu_posterior, sigma_posterior), label='Posterior')\n",
    "\n",
    "plt.legend()\n",
    "plt.title('Prior, Likelihood & Posterior Distributions')\n",
    "plt.ylabel('Probability Density')\n",
    "plt.xlabel('x')\n",
    "plt.show()"
   ]
  },
  {
   "cell_type": "markdown",
   "metadata": {},
   "source": [
    "## Metropolis-Hastings Algorithm"
   ]
  },
  {
   "cell_type": "code",
   "execution_count": 6,
   "metadata": {},
   "outputs": [],
   "source": [
    "def gaussian_MH_sampler(params_likelihood, params_prior, n_iter_no_change=100, prop_width=4, n_iter=100_000, tol=1e-6, random_seed=0):\n",
    "    '''\n",
    "    Estimate the distribution given a few samples of it using Metropolis-Hastings algorithm.\n",
    "\n",
    "    Probability Density of proposal distribution = Density of Likelihood * Density of Prior\n",
    "\n",
    "    Parameters\n",
    "    ----------\n",
    "    params_likelihood : ndarray of shape (2,)\n",
    "        Parameters (Mean & Standard Deviation) of Likelihood distribution.\n",
    "\n",
    "    params_prior : ndarray of shape (2,)\n",
    "        Parameters (Mean & Standard Deviation) of Prior distribution.\n",
    "        \n",
    "    n_iter_no_change : int, default=500\n",
    "        Number of iterations with no improvement to wait before stopping.\n",
    "\n",
    "    prop_width : float, default=4\n",
    "        Standard Deviation of proposal distribution, aka proposal width.\n",
    "        Stepsize of MCMC.\n",
    "\n",
    "    n_iter : int, default=100_000\n",
    "        Number of iterations(hops).\n",
    "\n",
    "    tol : float, default=1e-6\n",
    "        Tolerence limit for the convergence of algorithm.\n",
    "\n",
    "    random_seed : int, default=0\n",
    "        Seed for RandomState.\n",
    "\n",
    "    Returns\n",
    "    -------\n",
    "    samples : array-like\n",
    "        Samples of the estimated distribution.\n",
    "\n",
    "    acceptance_ratio : float\n",
    "        Ratio of accepted number of samples to total number of samples.\n",
    "\n",
    "    efficiency : float\n",
    "        Ratio of number of retained samples to total number of samples.\n",
    "\n",
    "    n_iter_converge : int\n",
    "        Number of iterations after which algorithm converges\n",
    "    '''\n",
    "    \n",
    "    # Seed the generator\n",
    "    np.random.seed(random_seed)\n",
    "\n",
    "    # Init the number of samples to reject\n",
    "    burn_in = int(n_iter*0.01)\n",
    "\n",
    "    # Init the MCMC chain as an array\n",
    "    samples = np.array([1])\n",
    "\n",
    "    # Init number of accepted samples with 0, history of sample mean(s), count of iterations with change in mean lesser than tolerance\n",
    "    n_accepted = 0\n",
    "\n",
    "    for itr in range(n_iter):\n",
    "        # Current state of MCMC chain\n",
    "        curr_state = samples[-1]\n",
    "\n",
    "        # Sample candidate from normal distribution with mu as previous sample & sigma as proposal width\n",
    "        candidate = np.random.normal(curr_state, prop_width)\n",
    "\n",
    "        # Calculate the normal probability density of proposal distribution at current state\n",
    "        curr_state_prob = norm_pdf(x=curr_state, mu=params_likelihood[0], sigma=params_likelihood[1]) * norm_pdf(x=curr_state, mu=params_prior[0], sigma=params_prior[1])\n",
    "\n",
    "        # Calculate the normal probability density of proposal distribution at candidate(to be next state)\n",
    "        candidate_prob = norm_pdf(x=candidate, mu=params_likelihood[0], sigma=params_likelihood[1]) * norm_pdf(x=candidate, mu=params_prior[0], sigma=params_prior[1])\n",
    "        \n",
    "        # Calculate probability of accepting this candidate\n",
    "        prob = min(1, candidate_prob / curr_state_prob)\n",
    "        \n",
    "        # Accept with the calculated probability\n",
    "        if np.random.random() < prob:\n",
    "            samples = np.append(samples, candidate)\n",
    "            n_accepted += 1\n",
    "            \n",
    "        # Otherwise report current sample again\n",
    "        else:\n",
    "            samples = np.append(samples, curr_state)\n",
    "\n",
    "        # Convergence check\n",
    "        if (itr > n_iter_no_change):\n",
    "            # Mean of last `n_iter_no_change` samples\n",
    "            mean_last_n = samples[-n_iter_no_change:].mean()\n",
    "\n",
    "            # Mean of samples without last `n_iter_no_change` samples\n",
    "            mean_without_last_n = samples[:-n_iter_no_change].mean()\n",
    "\n",
    "            # Break if differnce is below tolerance limit\n",
    "            if (np.abs(mean_last_n - mean_without_last_n) <= tol):\n",
    "                break\n",
    "\n",
    "    # Reject initial samples\n",
    "    retained_samples = samples[burn_in:]\n",
    "\n",
    "    # Calculate acceptance ratio & efficiency of the algorithm\n",
    "    acceptance_ratio = np.round(n_accepted / n_iter, 3)\n",
    "    efficiency = np.round(len(retained_samples) / n_iter, 3)\n",
    "\n",
    "    return retained_samples, acceptance_ratio, efficiency, itr"
   ]
  },
  {
   "cell_type": "markdown",
   "metadata": {},
   "source": [
    "## Estimating the posterior distribution using MH Sampler"
   ]
  },
  {
   "cell_type": "code",
   "execution_count": 11,
   "metadata": {},
   "outputs": [
    {
     "name": "stdout",
     "output_type": "stream",
     "text": [
      "Mean of estimated posterior distribution = 10.971012656678814\n",
      "Mean of analytic posterior distribution = 10.983133687809307\n",
      "Mean of initial data samples = 10.702796361565493\n",
      "MH Sampler has converged after 99999 iterations with an efficiency of 0.99\n"
     ]
    }
   ],
   "source": [
    "est_posterior , acc_ratio , eta, n_iter_converge = gaussian_MH_sampler(params_likelihood=[mu_likelihood, sigma_likelihood], params_prior=[mu_prior, sigma_prior])\n",
    "\n",
    "print(f'Mean of estimated posterior distribution = {est_posterior.mean()}')\n",
    "print(f'Mean of analytic posterior distribution = {mu_posterior}')\n",
    "print(f'Mean of initial data samples = {x_bar}')\n",
    "print(f'MH Sampler has converged after {n_iter_converge} iterations with an efficiency of {eta}')"
   ]
  },
  {
   "cell_type": "code",
   "execution_count": 20,
   "metadata": {},
   "outputs": [
    {
     "data": {
      "image/png": "[encoded data removed]",
      "text/plain": [
       "<Figure size 648x432 with 1 Axes>"
      ]
     },
     "metadata": {
      "needs_background": "light"
     },
     "output_type": "display_data"
    }
   ],
   "source": [
    "# Plotting a histogram of samples from the estimated posterior distribution alongside the analytic posterior distribution\n",
    "plt.figure(figsize=(9,6))\n",
    "plt.hist(est_posterior, bins=500, density=True, label='Estimated Posterior')\n",
    "plt.xlabel('x')\n",
    "plt.ylabel('Probabiltiy Density')\n",
    "plt.title('Histogram of samples from the estimated posterior distribution and the analytic posterior distribution')\n",
    "plt.plot(posterior_x, norm_pdf(posterior_x, mu_posterior, sigma_posterior), label='Analytic Posterior', color='r', linewidth=3)\n",
    "plt.legend()\n",
    "plt.show()"
   ]
  }
 ],
 "metadata": {
  "interpreter": {
   "hash": "916dbcbb3f70747c44a77c7bcd40155683ae19c65e1c03b4aa3499c5328201f1"
  },
  "kernelspec": {
   "display_name": "Python 3.8.10 64-bit",
   "language": "python",
   "name": "python3"
  },
  "language_info": {
   "codemirror_mode": {
    "name": "ipython",
    "version": 3
   },
   "file_extension": ".py",
   "mimetype": "text/x-python",
   "name": "python",
   "nbconvert_exporter": "python",
   "pygments_lexer": "ipython3",
   "version": "3.8.10"
  },
  "orig_nbformat": 4
 },
 "nbformat": 4,
 "nbformat_minor": 2
}
