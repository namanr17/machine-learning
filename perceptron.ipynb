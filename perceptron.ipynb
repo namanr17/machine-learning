{
 "cells": [
  {
   "cell_type": "markdown",
   "metadata": {},
   "source": [
    "## Linear Perceptron Classifier"
   ]
  },
  {
   "cell_type": "code",
   "execution_count": 3,
   "metadata": {},
   "outputs": [],
   "source": [
    "# Importing the required libraries\n",
    "import numpy as np\n",
    "import pandas as pd\n",
    "import matplotlib.pyplot as plt"
   ]
  },
  {
   "cell_type": "code",
   "execution_count": 4,
   "metadata": {},
   "outputs": [],
   "source": [
    "class Perceptron():\n",
    "    '''\n",
    "    A classification algorithm in which Perceptron Loss function is optimized by Stochastic Sub-gradient Descent algorithm.\n",
    "    \n",
    "    Parameters\n",
    "    ----------\n",
    "    n_iter : int, default=1000\n",
    "        The maximum number of passes over the training data (aka epochs).\n",
    "\n",
    "    tol : float, default=1e-3\n",
    "        The stopping criterion. If it is not None, the iterations will stop when (loss > previous_loss - tol).\n",
    "\n",
    "    warm_start : bool, default=False\n",
    "        When set to True, reuse the solution of the previous call to fit as initialization, otherwise, just erase the previous solution.\n",
    "\n",
    "    n_iter_no_change : int, default=25\n",
    "        Number of iterations with no improvement to wait before early stopping.\n",
    "\n",
    "    Attributes\n",
    "    ----------\n",
    "    w : numpy array of shape (1, n_features + 1)\n",
    "        Weights assigned to the features & bias(intercept) constant in decision function.\n",
    "\n",
    "    history : list\n",
    "        Loss values calculated at every iteration.\n",
    "    '''\n",
    "\n",
    "    def __init__(self, n_iter=1000, tol=1e-3, warm_start=False, n_iter_no_change=25):\n",
    "        self.n_iter = n_iter\n",
    "        self.tol = tol\n",
    "        self.warm_start = warm_start\n",
    "        self.n_iter_no_change = n_iter_no_change\n",
    "        self.w = None\n",
    "        self.history = None\n",
    "    \n",
    "    def decision_function(self, X):\n",
    "        '''\n",
    "        Predict confidence scores for samples.\n",
    "        The confidence score for a sample is proportional to the signed distance of that sample to the hyperplane.\n",
    "\n",
    "        Parameters\n",
    "        ----------\n",
    "        X : array-like or sparse matrix, shape (n_samples, n_features)\n",
    "            Samples.\n",
    "\n",
    "        Returns\n",
    "        -------\n",
    "        scores : array, shape=(n_samples,)\n",
    "            Confidence scores per sample where >0 means class +1 would be predicted and <0 means class -1 would be predicted.\n",
    "        '''\n",
    "\n",
    "        n_samples, n_features = X.shape\n",
    "        n_weights = self.w.shape[0]\n",
    "\n",
    "        # Add a constant feature in X for bias calculation if (n_features != n_weights)\n",
    "        if (n_features != n_weights):\n",
    "            X = np.c_[np.ones(n_samples), X]\n",
    "\n",
    "        # Compute the scores for samples in X i.e. distance from hyperplane\n",
    "        scores = np.dot(X, self.w)\n",
    "        return scores\n",
    "\n",
    "    def predict(self, X):\n",
    "        '''\n",
    "        Predict class labels for samples in X.\n",
    "\n",
    "        Parameters\n",
    "        ----------\n",
    "        X : array-like or sparse matrix, shape (n_samples, n_features)\n",
    "            Samples.\n",
    "\n",
    "        Returns\n",
    "        -------\n",
    "        C : array, shape [n_samples]\n",
    "            Predicted class label per sample.\n",
    "        '''\n",
    "\n",
    "        # Predict the class labels from scores\n",
    "        scores = self.decision_function(X)\n",
    "        C = np.where(scores>0, 1 ,-1)\n",
    "        return C\n",
    "\n",
    "    def score(self, X, y):\n",
    "        '''\n",
    "        Return the mean accuracy on the given test data and labels.\n",
    "\n",
    "        Parameters\n",
    "        ----------\n",
    "        X : array-like of shape (n_samples, n_features)\n",
    "            Test samples.\n",
    "\n",
    "        y : array-like of shape (n_samples,)\n",
    "            True labels for `X`.\n",
    "\n",
    "        Returns\n",
    "        -------\n",
    "        score : float\n",
    "            Mean accuracy of ``self.predict(X)`` wrt. `y`.\n",
    "            The best performance is 1.\n",
    "        '''\n",
    "\n",
    "        # Predict the class labels for X\n",
    "        y_pred = self.predict(X)\n",
    "\n",
    "        # Compute the accuracy of predicted labels\n",
    "        score = y == y_pred\n",
    "        return np.average(score)\n",
    "\n",
    "    def loss(self, X, y):\n",
    "        '''\n",
    "        Return the total loss on the given test data and labels using perceptron loss function.\n",
    "\n",
    "        Parameters\n",
    "        ----------\n",
    "        X : array-like of shape (n_samples, n_features)\n",
    "            Test samples.\n",
    "\n",
    "        y : array-like of shape (n_samples,)\n",
    "            True labels for `X`.\n",
    "\n",
    "        Returns\n",
    "        -------\n",
    "        loss : float\n",
    "            Total perceptron loss on ``self.decision_function(X)``\n",
    "            The best performance is 0.\n",
    "        '''\n",
    "\n",
    "        # Compute the confidence score for X\n",
    "        scores = self.decision_function(X)\n",
    "\n",
    "        # Compute the loss on every prediction\n",
    "        l = np.multiply(y, scores) * -1\n",
    "        loss = np.where(l > 0, l, 0)\n",
    "        return np.sum(loss)\n",
    "\n",
    "    def fit(self, X, y, weights_init=None, record_loss_history=False):\n",
    "        ''' \n",
    "        Fit a binary classifier on X and y with Stochastic Gradient Descent algorithm\n",
    "\n",
    "        Parameters\n",
    "        ----------\n",
    "        X : numpy array or sparse matrix of shape (n_samples, n_features)\n",
    "            Training data.\n",
    "\n",
    "        y : numpy array of shape (n_samples,)\n",
    "            Target values.\n",
    "\n",
    "        weights_init : numpy array of shape (1, n_features + 1)\n",
    "            The initial coefficietns & intercept to warm-start the optimization.\n",
    "\n",
    "        record_loss_history : bool, default=False\n",
    "            Whether to record the loss after every update\n",
    "\n",
    "        Returns\n",
    "        -------\n",
    "        self : object\n",
    "            Returns an instance of self.\n",
    "        '''\n",
    "\n",
    "        np.random.seed(0)\n",
    "        n_samples, n_features = X.shape\n",
    "        \n",
    "        # Initialize loss history & number of correct consecutive predictions\n",
    "        self.history = []\n",
    "        n_corr_consec_preds = 0\n",
    "\n",
    "        # Initialize weights & bias constant with random value(s) if (warm_start = False)\n",
    "        if (self.warm_start):\n",
    "            self.w = weights_init\n",
    "        else:\n",
    "            self.w = np.random.rand(n_features + 1)\n",
    "\n",
    "        # Add a constant feature in X for bias calculation\n",
    "        X = np.c_[np.ones(n_samples), X]\n",
    "\n",
    "        for _ in range(self.n_iter):\n",
    "            # Pick a random data point\n",
    "            idx = np.random.randint(n_samples)\n",
    "            \n",
    "            # Update the weights & reset the number of correct consecutive predictions on misclassification\n",
    "            if(self.decision_function(X[[idx]]) * y[idx] < 0):\n",
    "                self.w += y[idx] * X[idx]\n",
    "                n_corr_consec_preds = 0\n",
    "\n",
    "                # Append total loss for updated weights to the list if (record_loss_history = True)\n",
    "                if (record_loss_history):\n",
    "                    self.history.append(self.loss(X, y))\n",
    "                    \n",
    "            # Increment the number of correct consecutive predictions otherwise\n",
    "            else:\n",
    "                n_corr_consec_preds += 1\n",
    "            \n",
    "            # Check for convergence, stop iterations when (n_corr_consec_preds >= n_iter_no_change)\n",
    "            if (n_corr_consec_preds == self.n_iter_no_change):\n",
    "                break\n",
    "            \n",
    "        return self"
   ]
  },
  {
   "cell_type": "markdown",
   "metadata": {},
   "source": [
    "The perceptron algorithm has been coded up in `Perceptron.fit(X, y[, weights_init, ...])` method of class `Perceptron`. It learns a linear classification model by optimizing perceptron loss using Stochastic Gradient Descent algorithm."
   ]
  },
  {
   "cell_type": "markdown",
   "metadata": {},
   "source": [
    "## Data set"
   ]
  },
  {
   "cell_type": "code",
   "execution_count": 5,
   "metadata": {},
   "outputs": [
    {
     "name": "stdout",
     "output_type": "stream",
     "text": [
      "Number of rows = 1372 \n",
      "Number of columns = 5\n"
     ]
    },
    {
     "data": {
      "text/html": [
       "<div>\n",
       "<style scoped>\n",
       "    .dataframe tbody tr th:only-of-type {\n",
       "        vertical-align: middle;\n",
       "    }\n",
       "\n",
       "    .dataframe tbody tr th {\n",
       "        vertical-align: top;\n",
       "    }\n",
       "\n",
       "    .dataframe thead th {\n",
       "        text-align: right;\n",
       "    }\n",
       "</style>\n",
       "<table border=\"1\" class=\"dataframe\">\n",
       "  <thead>\n",
       "    <tr style=\"text-align: right;\">\n",
       "      <th></th>\n",
       "      <th>variance_of_wavelet_transformed</th>\n",
       "      <th>skewness_of_wavelet_transformed</th>\n",
       "      <th>curtosis_of_wavelet_transformed</th>\n",
       "      <th>entropy_of_image</th>\n",
       "      <th>counterfeit</th>\n",
       "    </tr>\n",
       "  </thead>\n",
       "  <tbody>\n",
       "    <tr>\n",
       "      <th>0</th>\n",
       "      <td>3.62160</td>\n",
       "      <td>8.6661</td>\n",
       "      <td>-2.8073</td>\n",
       "      <td>-0.44699</td>\n",
       "      <td>0</td>\n",
       "    </tr>\n",
       "    <tr>\n",
       "      <th>1</th>\n",
       "      <td>4.54590</td>\n",
       "      <td>8.1674</td>\n",
       "      <td>-2.4586</td>\n",
       "      <td>-1.46210</td>\n",
       "      <td>0</td>\n",
       "    </tr>\n",
       "    <tr>\n",
       "      <th>2</th>\n",
       "      <td>3.86600</td>\n",
       "      <td>-2.6383</td>\n",
       "      <td>1.9242</td>\n",
       "      <td>0.10645</td>\n",
       "      <td>0</td>\n",
       "    </tr>\n",
       "    <tr>\n",
       "      <th>3</th>\n",
       "      <td>3.45660</td>\n",
       "      <td>9.5228</td>\n",
       "      <td>-4.0112</td>\n",
       "      <td>-3.59440</td>\n",
       "      <td>0</td>\n",
       "    </tr>\n",
       "    <tr>\n",
       "      <th>4</th>\n",
       "      <td>0.32924</td>\n",
       "      <td>-4.4552</td>\n",
       "      <td>4.5718</td>\n",
       "      <td>-0.98880</td>\n",
       "      <td>0</td>\n",
       "    </tr>\n",
       "  </tbody>\n",
       "</table>\n",
       "</div>"
      ],
      "text/plain": [
       "   variance_of_wavelet_transformed  skewness_of_wavelet_transformed  \\\n",
       "0                          3.62160                           8.6661   \n",
       "1                          4.54590                           8.1674   \n",
       "2                          3.86600                          -2.6383   \n",
       "3                          3.45660                           9.5228   \n",
       "4                          0.32924                          -4.4552   \n",
       "\n",
       "   curtosis_of_wavelet_transformed  entropy_of_image  counterfeit  \n",
       "0                          -2.8073          -0.44699            0  \n",
       "1                          -2.4586          -1.46210            0  \n",
       "2                           1.9242           0.10645            0  \n",
       "3                          -4.0112          -3.59440            0  \n",
       "4                           4.5718          -0.98880            0  "
      ]
     },
     "execution_count": 5,
     "metadata": {},
     "output_type": "execute_result"
    }
   ],
   "source": [
    "# Load the dataset into a dataframe\n",
    "column_names = ['variance_of_wavelet_transformed', 'skewness_of_wavelet_transformed', 'curtosis_of_wavelet_transformed', 'entropy_of_image', 'counterfeit']\n",
    "data = pd.read_csv('./Datasets/data_banknote_authentication.csv', names=column_names)\n",
    "\n",
    "n_rows, n_columns = data.shape\n",
    "print(f'Number of rows = {n_rows} \\nNumber of columns = {n_columns}')\n",
    "data.head()"
   ]
  },
  {
   "cell_type": "markdown",
   "metadata": {},
   "source": [
    "The data file `data_banknote_authentication.csv` is the source of information for the classification problem. The number of instances (rows) in the data set is 1372, and the number of variables (columns) is 5.\n",
    "\n",
    "This problem has the following variables:\n",
    "- `variance_of_wavelet_transformed`, used as input.\n",
    "- `skewness_of_wavelet_transformed`, used as input.\n",
    "- `curtosis_of_wavelet_transformed`, used as input.\n",
    "- `entropy_of_image`, used as input.\n",
    "- `counterfeit`, used as the target. It can only have two values: 0 (non-counterfeit) or 1 (counterfeit)."
   ]
  },
  {
   "cell_type": "markdown",
   "metadata": {},
   "source": [
    "## Data Preprocessing"
   ]
  },
  {
   "cell_type": "code",
   "execution_count": 6,
   "metadata": {},
   "outputs": [
    {
     "name": "stdout",
     "output_type": "stream",
     "text": [
      "<class 'pandas.core.frame.DataFrame'>\n",
      "RangeIndex: 1372 entries, 0 to 1371\n",
      "Data columns (total 5 columns):\n",
      " #   Column                           Non-Null Count  Dtype  \n",
      "---  ------                           --------------  -----  \n",
      " 0   variance_of_wavelet_transformed  1372 non-null   float64\n",
      " 1   skewness_of_wavelet_transformed  1372 non-null   float64\n",
      " 2   curtosis_of_wavelet_transformed  1372 non-null   float64\n",
      " 3   entropy_of_image                 1372 non-null   float64\n",
      " 4   counterfeit                      1372 non-null   int64  \n",
      "dtypes: float64(4), int64(1)\n",
      "memory usage: 53.7 KB\n"
     ]
    }
   ],
   "source": [
    "data.info()"
   ]
  },
  {
   "cell_type": "markdown",
   "metadata": {},
   "source": [
    "`Info()` method of Pandas shows that there are 1372 non-null `float64` values for the first 4 variables (aka features) and 1372 non-null class labels of type `int64`.\n",
    "\n",
    "For perceptron binary classifier to work, 0/1 class labels must be transformed to negative & positive labels respectively.\n",
    "- class -1 means non-counterfeit\n",
    "- class +1 means counterfeit"
   ]
  },
  {
   "cell_type": "code",
   "execution_count": 7,
   "metadata": {},
   "outputs": [],
   "source": [
    "# Transform the class labels to +1/-1\n",
    "data.counterfeit.where(data.counterfeit > 0, other=-1, inplace=True)\n",
    "\n",
    "# Split the dataset into features (X) and labels (y)\n",
    "features = data.drop('counterfeit', axis=1)\n",
    "labels = data.counterfeit\n",
    "\n",
    "# Scale the features with min-max normalization\n",
    "features = (features - features.min()) / (features.max() - features.min())"
   ]
  },
  {
   "cell_type": "markdown",
   "metadata": {},
   "source": [
    "Dataset has been split into features and labels. Features have been scaled using min-max normalization and class labels have been transformed from 0/1 to -1/+1. Data has been preprocessed and `Percpetron.predict(X)` method has been defined in class `Perceptron` to make predictions for banknotes dataset."
   ]
  },
  {
   "cell_type": "markdown",
   "metadata": {},
   "source": [
    "## K-Fold Cross-Validation"
   ]
  },
  {
   "cell_type": "code",
   "execution_count": 8,
   "metadata": {},
   "outputs": [],
   "source": [
    "def cross_validate(Perceptron, X, y=None, n_folds=10, init_params=None):\n",
    "    '''\n",
    "    Train the model on the dataset using cross-validation and evaluate metric(s).\n",
    "\n",
    "    Parameters\n",
    "    ----------\n",
    "    model : model object implementing 'fit'\n",
    "        The object to use to fit the data.\n",
    "\n",
    "    X : array-like of shape (n_samples, n_features)\n",
    "        The data to fit.\n",
    "\n",
    "    y : array-like of shape (n_samples,), default=None\n",
    "        The target variable to try to predict in the case of supervised learning.\n",
    "\n",
    "    n_folds : int, default=10\n",
    "        The number of folds in KFold Cross Validation.\n",
    "\n",
    "    init_param : dict, default=None\n",
    "        Dictionary of parameters to init model object with.\n",
    "\n",
    "    Returns\n",
    "    -------\n",
    "    ret : dict of float arrays of shape (n_splits,)\n",
    "        Array of scores of the model for each run of the cross validation.\n",
    "\n",
    "        A dict of arrays containing the score arrays for each scorer is returned. The possible keys for this ``dict`` are:\n",
    "            ``test_score``\n",
    "                The array for test scores on each cv split.\n",
    "\n",
    "            ``test_loss``\n",
    "                The array for test losses on each cv split.\n",
    "\n",
    "            ``model``\n",
    "                The model objects for each cv split.\n",
    "    '''\n",
    "\n",
    "    n_samples, _ = X.shape\n",
    "\n",
    "    # Initialize dict of empty arrays for (test_score, train_score, model)\n",
    "    ret = {}\n",
    "    ret['test_score'] = np.empty(n_folds, dtype=float)\n",
    "    ret['test_loss'] = np.empty(n_folds, dtype=float)\n",
    "    ret['model'] = np.empty(n_folds, dtype=object)\n",
    "\n",
    "    # Size of a fold for the given number of folds (n_folds)\n",
    "    fold_size = int(n_samples / n_folds)\n",
    "\n",
    "    # Iterate over each fold to test the (model)\n",
    "    for i in range(0, n_folds):\n",
    "\n",
    "        # Create an array of indices for test set, for eg, when (i = 0), indices will be [0...fold_size] and so on\n",
    "        idx = np.arange(i*fold_size, (i+1)*fold_size)\n",
    "\n",
    "        # Set ith fold as test set & rest as train set\n",
    "        X_test, y_test = X[idx].copy(), y[idx].copy()\n",
    "        X_train, y_train = np.delete(X, idx, axis=0), np.delete(y, idx, axis=0)\n",
    "\n",
    "        # Init the Perceptron model & test it on ith fold after trainig it on rest of the folds\n",
    "        model = Perceptron(n_iter=init_params['n_iter'], n_iter_no_change=init_params['n_iter_no_change'])\n",
    "\n",
    "        ret['model'][i] = model.fit(X_train, y_train)\n",
    "        ret['test_loss'][i] = model.loss(X_test, y_test)\n",
    "        ret['test_score'][i] = model.score(X_test, y_test)\n",
    "\n",
    "    return ret"
   ]
  },
  {
   "cell_type": "markdown",
   "metadata": {},
   "source": [
    "## Training the algorithm using cross-validation"
   ]
  },
  {
   "cell_type": "code",
   "execution_count": 15,
   "metadata": {},
   "outputs": [
    {
     "name": "stdout",
     "output_type": "stream",
     "text": [
      "Validation set loss = 2.17190525921428\n",
      "Validation set error = 0.05185185185185193\n",
      "Validation set accuracy = 94.815 %\n"
     ]
    }
   ],
   "source": [
    "# Hold out 20% of total data\n",
    "np.random.seed(0)\n",
    "msk = np.random.rand(len(data)) < 0.8\n",
    "X_train, y_train = features[msk].to_numpy(), labels[msk].to_numpy()\n",
    "\n",
    "# Cross-validate over rest of the data\n",
    "cv_result = cross_validate(Perceptron, X_train, y_train, init_params={'n_iter':10000, 'n_iter_no_change':75})\n",
    "\n",
    "# Calculate the average test loss over all the folds\n",
    "cv_val_loss = np.average(cv_result['test_loss'])\n",
    "\n",
    "# Calculate the average test accuracy score over all the folds\n",
    "cv_val_score = np.average(cv_result['test_score'])\n",
    "\n",
    "print(f\"Validation set loss = {cv_val_loss}\\nValidation set error = {1 - cv_val_score}\")\n",
    "print(f\"Validation set accuracy = {np.round(cv_val_score*100, decimals=3)} %\")"
   ]
  },
  {
   "cell_type": "markdown",
   "metadata": {},
   "source": [
    "Perceptron model has been trained on the data set (after holding out a test set i.e. `(X_val, y_val)`) using cross-validation. Validation set error which is one minus average validation set accuracy score over all the folds has been reported."
   ]
  },
  {
   "cell_type": "markdown",
   "metadata": {},
   "source": [
    "## F1 Score"
   ]
  },
  {
   "cell_type": "code",
   "execution_count": 10,
   "metadata": {},
   "outputs": [],
   "source": [
    "def f1_score(y_true, y_pred, target_class=1):\n",
    "    '''\n",
    "    Compute the F1 score, also known as balanced F-score or F-measure.\n",
    "    \n",
    "    The F1 score can be interpreted as a weighted average of the precision and recall, where an F1 score reaches its best value at 1 and worst score at 0. The relative contribution of precision and recall to the F1 score are\n",
    "    equal. The formula for the F1 score is::\n",
    "        F1 = 2 * (precision * recall) / (precision + recall)\n",
    "\n",
    "    Parameters\n",
    "    ----------\n",
    "    y_true : 1d array-like, or label indicator array\n",
    "        Ground truth (correct) target values.\n",
    "\n",
    "    y_pred : 1d array-like, or label indicator array\n",
    "        Estimated targets as returned by a classifier.\n",
    "\n",
    "    target_class : int, default=1\n",
    "        Target class to compute the F1 score for.\n",
    "\n",
    "    Returns\n",
    "    -------\n",
    "    f1_score : float\n",
    "        F1 score of the positive class in binary classification.\n",
    "    '''\n",
    "\n",
    "    # Set the target class label as 1 and rest as 0\n",
    "    y_pred = np.where(y_pred == target_class, 1, 0)\n",
    "    y_true = np.where(y_true == target_class, 1, 0)\n",
    "\n",
    "    # Find the number of True target class labels, i.e. the number of instances when both predicted & actual labels are 1 and hence their sum is 2\n",
    "    true_pos = np.sum(np.where(y_pred + y_true == 2, 1, 0))\n",
    "\n",
    "    # Find the number of predicted target class labels \n",
    "    pred_pos = np.sum(np.where(y_pred > 0, 1, 0))\n",
    "\n",
    "    # Find the number of actual target class labels\n",
    "    actual_pos = np.sum(np.where(y_true > 0, 1, 0))\n",
    "\n",
    "    # Calculate Precision & Recall for target class\n",
    "    precision = true_pos / pred_pos\n",
    "    recall = true_pos / actual_pos\n",
    "\n",
    "    # Calculate & return F1 score for target class \n",
    "    return 2 * (precision * recall) / (precision + recall)"
   ]
  },
  {
   "cell_type": "markdown",
   "metadata": {},
   "source": [
    "## Evaluation using F1 score"
   ]
  },
  {
   "cell_type": "code",
   "execution_count": 16,
   "metadata": {},
   "outputs": [
    {
     "data": {
      "image/png": "[encoded data removed]",
      "text/plain": [
       "<Figure size 648x432 with 1 Axes>"
      ]
     },
     "metadata": {
      "needs_background": "light"
     },
     "output_type": "display_data"
    }
   ],
   "source": [
    "# Held out test set (20% of total data)\n",
    "X_test, y_test = features[~msk].to_numpy(), labels[~msk].to_numpy()\n",
    "\n",
    "# Train the model on rest of data (80% of total data)\n",
    "model = Perceptron(n_iter_no_change=75)\n",
    "model.fit(X_train, y_train, record_loss_history=True)\n",
    "\n",
    "# Visualize training loss\n",
    "plt.figure(figsize=(9,6))\n",
    "plt.plot(model.history, label='Perceptron loss')\n",
    "plt.title('Figure: Plot of the Perceptron Loss function')\n",
    "plt.xlabel('Number of iterations')\n",
    "plt.ylabel('Loss')\n",
    "plt.legend()\n",
    "plt.grid(True)"
   ]
  },
  {
   "cell_type": "markdown",
   "metadata": {},
   "source": [
    "Training loss decreases with the number of iterations and the algorithm converges after `n_iter_no_change` (=75) consecutive iterations with no change in weights because of correct classification."
   ]
  },
  {
   "cell_type": "code",
   "execution_count": 17,
   "metadata": {},
   "outputs": [
    {
     "name": "stdout",
     "output_type": "stream",
     "text": [
      "Test set loss = 2.273589424341566\n",
      "Test set accuracy = 97.552 %\n",
      "F1 score for Class +1 = 0.974910394265233\n",
      "F1 score for Class -1 = 0.9761092150170648\n"
     ]
    }
   ],
   "source": [
    "# Test set accuracy score for class predictions\n",
    "test_score = model.score(X=X_test, y=y_test)\n",
    "\n",
    "# Test set loss for class predictions\n",
    "test_loss = model.loss(X=X_test, y=y_test)\n",
    "\n",
    "# Test set F1 score for Class +1\n",
    "f1_pos_score = f1_score(y_true=y_test, y_pred=model.predict(X_test), target_class=+1)\n",
    "\n",
    "# Test set F1 score for Class -1\n",
    "f1_neg_score = f1_score(y_true=y_test, y_pred=model.predict(X_test), target_class=-1)\n",
    "\n",
    "print(f\"Test set loss = {test_loss}\")\n",
    "print(f\"Test set accuracy = {np.round(test_score * 100, decimals=3)} %\")\n",
    "print(f\"F1 score for Class +1 = {f1_pos_score}\")\n",
    "print(f\"F1 score for Class -1 = {f1_neg_score}\")"
   ]
  },
  {
   "cell_type": "markdown",
   "metadata": {},
   "source": [
    "F1 score on the held out test set has been reported for class +1 and class -1."
   ]
  }
 ],
 "metadata": {
  "interpreter": {
   "hash": "916dbcbb3f70747c44a77c7bcd40155683ae19c65e1c03b4aa3499c5328201f1"
  },
  "kernelspec": {
   "display_name": "Python 3.8.10 64-bit",
   "language": "python",
   "name": "python3"
  },
  "language_info": {
   "codemirror_mode": {
    "name": "ipython",
    "version": 3
   },
   "file_extension": ".py",
   "mimetype": "text/x-python",
   "name": "python",
   "nbconvert_exporter": "python",
   "pygments_lexer": "ipython3",
   "version": "3.8.10"
  },
  "orig_nbformat": 4
 },
 "nbformat": 4,
 "nbformat_minor": 2
}
